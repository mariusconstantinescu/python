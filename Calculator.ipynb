{
 "cells": [
  {
   "cell_type": "code",
   "execution_count": 1,
   "metadata": {},
   "outputs": [
    {
     "name": "stdin",
     "output_type": "stream",
     "text": [
      "Would you like to add/subtract/multiply/divide?  add\n",
      "What is the first number?  1\n",
      "What is the second number?  2\n"
     ]
    },
    {
     "name": "stdout",
     "output_type": "stream",
     "text": [
      "1.0 + 2.0 = 3.0\n"
     ]
    }
   ],
   "source": [
    "# step 1: ask user for calculation to be performed\n",
    "operation = input('Would you like to add/subtract/multiply/divide? ').lower()\n",
    "\n",
    "# step 2: ask for numbers, alert order matters for subtracting or dividing\n",
    "if operation == 'subtract' or operation == 'divide':\n",
    "    print('You chose {}.'.format(operation))\n",
    "    print('Please keep in mind that the order of your numbers matter.')\n",
    "\n",
    "num1 = input('What is the first number? ')\n",
    "num2 = input('What is the second number? ')\n",
    "\n",
    "# step 3: setup try/except for mathematical operation\n",
    "try:\n",
    "    # step 3a: immediately try to convert numbers input to floats\n",
    "    num1, num2 = float(num1), float(num2)\n",
    "    \n",
    "    # step 3b: perform operation and print result\n",
    "    if operation == 'add':\n",
    "        result = num1 + num2\n",
    "        print('{} + {} = {}'.format(num1, num2, result))\n",
    "    elif operation == 'subtract':\n",
    "        result = num1 - num2\n",
    "        print('{} - {} = {}'.format(num1, num2, result))\n",
    "    elif operation == 'multiply':\n",
    "        result = num1 * num2\n",
    "        print('{} * {} = {}'.format(num1, num2, result))\n",
    "    elif operation == 'divide':\n",
    "        result = num1 / num2\n",
    "        print('{} / {} = {}'.format(num1, num2, result))\n",
    "    else:\n",
    "        # else will be hit if they didn't chose an option correctly\n",
    "        print('Sorry, but \"{}\" is not an option.'.format(operation))\n",
    "except:\n",
    "    # step 3c: print error\n",
    "    print('Error: Improper numbers used. Please try again.')"
   ]
  },
  {
   "cell_type": "code",
   "execution_count": null,
   "metadata": {},
   "outputs": [],
   "source": []
  }
 ],
 "metadata": {
  "kernelspec": {
   "display_name": "Python 3",
   "language": "python",
   "name": "python3"
  },
  "language_info": {
   "codemirror_mode": {
    "name": "ipython",
    "version": 3
   },
   "file_extension": ".py",
   "mimetype": "text/x-python",
   "name": "python",
   "nbconvert_exporter": "python",
   "pygments_lexer": "ipython3",
   "version": "3.8.3"
  }
 },
 "nbformat": 4,
 "nbformat_minor": 4
}
