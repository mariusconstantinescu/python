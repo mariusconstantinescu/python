{
 "cells": [
  {
   "cell_type": "code",
   "execution_count": null,
   "metadata": {},
   "outputs": [],
   "source": [
    "# create a product and price for three items\n",
    "p1_name, p1_price = 'Books', 49.95\n",
    "p2_name, p2_price = 'Computer', 579.99\n",
    "p3_name, p3_price = 'Monitor', 124.89\n",
    "\n",
    "# create a company name and information\n",
    "company_name = 'coding temple, inc.'\n",
    "company_address = '283 Franklin St.'\n",
    "company_city = 'Boston, MA'\n",
    "\n",
    "# declare ending message\n",
    "message = 'Thanks for shopping with us today!'\n",
    "\n",
    "# create a top border\n",
    "print('*' * 50)\n",
    "\n",
    "# print company information first using format\n",
    "print('\\t\\t{}'.format(company_name.title()))\n",
    "print('\\t\\t{}'.format(company_address.title()))\n",
    "print('\\t\\t{}'.format(company_city.title()))\n",
    "\n",
    "# print a line between sections\n",
    "print('=' * 50)\n",
    "\n",
    "# print out header for section of items\n",
    "print('\\tProduct Name\\tProduct Price')\n",
    "\n",
    "# create a print statement for each item\n",
    "print('\\t{}\\t\\t${}'.format(p1_name.title(), p1_price))\n",
    "print('\\t{}\\t${}'.format(p2_name.title(), p2_price))\n",
    "print('\\t{}\\t\\t${}'.format(p3_name.title(), p3_price))\n",
    "\n",
    "# print a line between sections\n",
    "print('=' * 50)\n",
    "\n",
    "# print out header for section of total\n",
    "print('\\t\\t\\tTotal')\n",
    "\n",
    "# calculate total price and print out\n",
    "total = p1_price + p2_price + p3_price\n",
    "print('\\t\\t\\t${}'.format(total))\n",
    "\n",
    "# print a line between sections\n",
    "print('=' * 50)\n",
    "\n",
    "# output thank you message\n",
    "print('\\n\\t{}\\n'.format(message))\n",
    "\n",
    "# create a bottom border\n",
    "print('*' * 50)"
   ]
  }
 ],
 "metadata": {
  "kernelspec": {
   "display_name": "Python 3",
   "language": "python",
   "name": "python3"
  },
  "language_info": {
   "codemirror_mode": {
    "name": "ipython",
    "version": 3
   },
   "file_extension": ".py",
   "mimetype": "text/x-python",
   "name": "python",
   "nbconvert_exporter": "python",
   "pygments_lexer": "ipython3",
   "version": "3.8.3"
  }
 },
 "nbformat": 4,
 "nbformat_minor": 4
}
