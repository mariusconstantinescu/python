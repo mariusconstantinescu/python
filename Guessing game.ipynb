{
 "cells": [
  {
   "cell_type": "code",
   "execution_count": null,
   "metadata": {},
   "outputs": [],
   "source": [
    "# guessing game\n",
    "# tested using JupyterLab\n",
    "from random import randint\n",
    "from IPython.display import clear_output\n",
    "\n",
    "guessed = False\n",
    "number = randint(0, 100)\n",
    "guesses = 0\n",
    "\n",
    "while not guessed:    \n",
    "    ans = input('Try to guess the number I am thinking of! ')\n",
    "    \n",
    "    guesses += 1\n",
    "    \n",
    "    clear_output()\n",
    "    \n",
    "    if int(ans) == number:\n",
    "        print('Congrats! You guessed it correctly.')\n",
    "        print('It took you {} guesses!'.format(guesses))\n",
    "        break\n",
    "    elif int(ans) > number:\n",
    "        print('The number is lower than what you guessed.')\n",
    "    elif int(ans) < number:\n",
    "        print('The number is greater than what you guessed.')"
   ]
  }
 ],
 "metadata": {
  "kernelspec": {
   "display_name": "Python 3",
   "language": "python",
   "name": "python3"
  },
  "language_info": {
   "codemirror_mode": {
    "name": "ipython",
    "version": 3
   },
   "file_extension": ".py",
   "mimetype": "text/x-python",
   "name": "python",
   "nbconvert_exporter": "python",
   "pygments_lexer": "ipython3",
   "version": "3.8.3"
  }
 },
 "nbformat": 4,
 "nbformat_minor": 4
}
