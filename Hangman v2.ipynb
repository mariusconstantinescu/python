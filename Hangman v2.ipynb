{
 "cells": [
  {
   "cell_type": "code",
   "execution_count": null,
   "id": "733ffdb0-6377-4c3f-a1c6-e19b55ac48e7",
   "metadata": {
    "tags": []
   },
   "outputs": [],
   "source": [
    "from IPython.display import clear_output\n",
    "import random\n",
    "from hangman_art import stages, logo\n",
    "from hangman_words import word_list\n",
    "\n",
    "print(logo)\n",
    "game_is_finished = False\n",
    "lives = len(stages) - 1\n",
    "\n",
    "chosen_word = random.choice(word_list)\n",
    "word_length = len(chosen_word)\n",
    "\n",
    "display = []\n",
    "for _ in range(word_length):\n",
    "    display += \"_\"\n",
    "\n",
    "while not game_is_finished:\n",
    "    guess = input(\"Guess a letter: \").lower()\n",
    "\n",
    "    if guess in display:\n",
    "        print(f\"You've already guessed {guess}\")\n",
    "\n",
    "    for position in range(word_length):\n",
    "        letter = chosen_word[position]\n",
    "        if letter == guess:\n",
    "            display[position] = letter\n",
    "    print(f\"{' '.join(display)}\")\n",
    "\n",
    "    if guess not in chosen_word:\n",
    "        print(f\"You guessed {guess}, that's not in the word. You lose a life.\")\n",
    "        lives -= 1\n",
    "        if lives == 0:\n",
    "            game_is_finished = True\n",
    "            print(\"You lose.\")\n",
    "    \n",
    "    if not \"_\" in display:\n",
    "        game_is_finished = True\n",
    "        print(\"You win.\")\n",
    "\n",
    "    print(stages[lives])"
   ]
  },
  {
   "cell_type": "code",
   "execution_count": null,
   "id": "ea40ee05-1fd7-4263-bf3d-51c7ae5520ec",
   "metadata": {},
   "outputs": [],
   "source": []
  }
 ],
 "metadata": {
  "kernelspec": {
   "display_name": "Python 3",
   "language": "python",
   "name": "python3"
  },
  "language_info": {
   "codemirror_mode": {
    "name": "ipython",
    "version": 3
   },
   "file_extension": ".py",
   "mimetype": "text/x-python",
   "name": "python",
   "nbconvert_exporter": "python",
   "pygments_lexer": "ipython3",
   "version": "3.9.5"
  }
 },
 "nbformat": 4,
 "nbformat_minor": 5
}
